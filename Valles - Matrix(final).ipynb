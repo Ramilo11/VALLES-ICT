{
 "cells": [
  {
   "cell_type": "code",
   "execution_count": 33,
   "id": "9ae8f33a-c79c-4b88-b0b2-1ac157ce0f68",
   "metadata": {},
   "outputs": [],
   "source": [
    "RSV =[18,19,22]\n",
    "AOA =[1,15,1]\n",
    "\n",
    "# Student ID (2023-4-0284)\n",
    "first_set = [2,0,2]\n",
    "second_set = [2,8,4]\n",
    "\n",
    "\n",
    "# Define the matrices\n",
    "matrix_1 = np.array([[18, 19, 22], [1, 15, 1]])\n",
    "matrix_2 = np.array([[2, 0, 2], [2, 8, 4]])\n",
    "\n",
    "\n",
    "# Matrix Addition\n",
    "matrix_3 = matrix_1 + matrix_2\n",
    "\n",
    "\n",
    "# Scalar Multiplication\n",
    "matrix_4 = matrix_1 * 2\n",
    "\n",
    "\n",
    "# Transpose of 2nd Matrix\n",
    "matrix_5 = matrix_2.T\n",
    "\n",
    "\n",
    "# Matrix Multiplication (matrix3 [2x3] * matrix5 [3x2] = matrix6 [2x2])\n",
    "matrix_6 = np.dot(matrix_3, matrix_5)\n",
    "\n",
    "\n",
    "# Sum of all elements in matrix3\n",
    "sum_matrix_3 = np.sum(matrix_3)\n",
    "\n",
    "# Zero Matrix (2x3)\n",
    "matrix_7 = np.zeros((2, 3), dtype=int)\n",
    "\n"
   ]
  },
  {
   "cell_type": "code",
   "execution_count": 11,
   "id": "198e27a7-ac1c-434e-88db-36c62d84d317",
   "metadata": {},
   "outputs": [
    {
     "name": "stdout",
     "output_type": "stream",
     "text": [
      "1st Matrix:\n",
      " [[18 19 22]\n",
      " [ 1 15  1]] \n",
      "\n",
      "2nd Matrix:\n",
      " [[2 0 2]\n",
      " [2 8 4]] \n",
      "\n",
      "3rd Matrix (Addition):\n",
      " [[20 19 24]\n",
      " [ 3 23  5]] \n",
      "\n",
      "4th Matrix (Scalar Multiplication):\n",
      " [[36 38 44]\n",
      " [ 2 30  2]] \n",
      "\n",
      "5th Matrix (Transpose):\n",
      " [[2 2]\n",
      " [0 8]\n",
      " [2 4]] \n",
      "\n",
      "6th Matrix (Multiplication):\n",
      " [[ 88 288]\n",
      " [ 16 210]] \n",
      "\n",
      "Sum of all elements in 3rd Matrix:\n",
      " 94 \n",
      "\n",
      "7th Matrix (Zero Matrix):\n",
      " [[0 0 0]\n",
      " [0 0 0]]\n"
     ]
    }
   ],
   "source": [
    "import numpy as np\n",
    "print(\"1st Matrix:\\n\",matrix_1,\n",
    "      \"\\n\\n2nd Matrix:\\n\",matrix_2,\n",
    "      \"\\n\\n3rd Matrix (Addition):\\n\",matrix_3,\n",
    "      \"\\n\\n4th Matrix (Scalar Multiplication):\\n\",matrix_4,\n",
    "      \"\\n\\n5th Matrix (Transpose):\\n\",matrix_5,\n",
    "      \"\\n\\n6th Matrix (Multiplication):\\n\",matrix_6,\n",
    "      \"\\n\\nSum of all elements in 3rd Matrix:\\n\", sum_matrix_3,\n",
    "      \"\\n\\n7th Matrix (Zero Matrix):\\n\",matrix_7) \n"
   ]
  },
  {
   "cell_type": "code",
   "execution_count": null,
   "id": "9909549c-8b89-44ce-a285-f3a71a327618",
   "metadata": {},
   "outputs": [],
   "source": []
  }
 ],
 "metadata": {
  "kernelspec": {
   "display_name": "Python 3 (ipykernel)",
   "language": "python",
   "name": "python3"
  },
  "language_info": {
   "codemirror_mode": {
    "name": "ipython",
    "version": 3
   },
   "file_extension": ".py",
   "mimetype": "text/x-python",
   "name": "python",
   "nbconvert_exporter": "python",
   "pygments_lexer": "ipython3",
   "version": "3.12.7"
  }
 },
 "nbformat": 4,
 "nbformat_minor": 5
}
